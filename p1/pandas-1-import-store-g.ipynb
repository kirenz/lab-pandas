{
 "cells": [
  {
   "cell_type": "markdown",
   "metadata": {},
   "source": [
    "**Important notes:**\n",
    "\n",
    "- Use your **HdM ID** (e.g. the xy123 in ***xy123***@hdm-stuttgart.de) as **NAME**\n",
    "\n",
    "\n",
    "- Don't change the name of the file and don't delete any cells.\n",
    "\n",
    "\n",
    "- Make sure you fill in any place that says  <font color='green'> \\# YOUR CODE HERE </font> or \"YOUR ANSWER HERE\".\n",
    "\n",
    "\n",
    "- The function `NotImplementedError()` prevents you from hand in tasks with empty cells. Simply delete the function if you start working on a cell with this entry.\n",
    "\n",
    "\n",
    "- Before you turn this problem in (i.e., after you completed all tasks), make sure everything runs as expected: Restart the kernel and run all cells. If you use:\n",
    "  - *Visual Studio Code*: select \"Restart\" and then \"Run All\" \n",
    "  - *Colab*: in the menubar, select `Runtime` and click on `Restart and run all`\n",
    "  - *Jupyter Notebook*: in the menubar, select `Kernel` and click on `Restart & Run All`\n",
    "\n",
    "\n",
    "Good luck!"
   ]
  },
  {
   "cell_type": "code",
   "execution_count": null,
   "metadata": {},
   "outputs": [],
   "source": [
    "NAME = \"\""
   ]
  },
  {
   "cell_type": "code",
   "execution_count": null,
   "metadata": {},
   "outputs": [],
   "source": [
    "import IPython\n",
    "assert IPython.version_info[0] >= 3, \"Your version of IPython is too old, please update it.\""
   ]
  },
  {
   "cell_type": "markdown",
   "metadata": {},
   "source": [
    "---"
   ]
  },
  {
   "cell_type": "markdown",
   "metadata": {},
   "source": [
    "# Import and store data"
   ]
  },
  {
   "cell_type": "markdown",
   "metadata": {},
   "source": [
    "## Import pandas\n",
    "\n",
    "- To load the pandas package and start working with it, import the package. \n",
    "\n",
    "\n",
    "- The community agreed alias for pandas is `pd`, so loading pandas as pd is assumed standard practice for all of the pandas documentation:"
   ]
  },
  {
   "cell_type": "code",
   "execution_count": null,
   "metadata": {},
   "outputs": [],
   "source": [
    "import pandas as pd"
   ]
  },
  {
   "cell_type": "markdown",
   "metadata": {},
   "source": [
    "## Data creation"
   ]
  },
  {
   "cell_type": "markdown",
   "metadata": {},
   "source": [
    "- To manually store data in a table, create a DataFrame:"
   ]
  },
  {
   "cell_type": "markdown",
   "metadata": {},
   "source": [
    "- create the DataFrame and name it `my_df`\n",
    "\n",
    "\n",
    "- add the variable \"gender\" with the following observations: male, female and male\n",
    "\n",
    "Hint:\n",
    "\n",
    "```python\n",
    "my_df = pd.DataFrame(\n",
    "    { \n",
    "        'name': [ \"Tom\", \"Lisa\", \"Peter\"],\n",
    "        'height': [1.68, 1.93, 1.72],\n",
    "        'weight': [48.4, 89.8, 84.2]\n",
    "         ______     ________\n",
    "        }\n",
    ")\n",
    "```"
   ]
  },
  {
   "cell_type": "code",
   "execution_count": null,
   "metadata": {
    "deletable": false,
    "nbgrader": {
     "cell_type": "code",
     "checksum": "38fbebfd19912bae27f0cbb06f2b4d3f",
     "grade": false,
     "grade_id": "my_df",
     "locked": false,
     "schema_version": 3,
     "solution": true,
     "task": false
    }
   },
   "outputs": [],
   "source": [
    "# YOUR CODE HERE\n",
    "raise NotImplementedError()"
   ]
  },
  {
   "cell_type": "code",
   "execution_count": null,
   "metadata": {
    "deletable": false,
    "editable": false,
    "nbgrader": {
     "cell_type": "code",
     "checksum": "e565ab3dc8a998b4021a7804814bfe37",
     "grade": true,
     "grade_id": "c_my_df",
     "locked": true,
     "points": 2,
     "schema_version": 3,
     "solution": false,
     "task": false
    }
   },
   "outputs": [],
   "source": [
    "\"\"\"Check that your code returns the correct output\"\"\"\n",
    "assert my_df.iloc[0, 0] == \"Tom\"\n",
    "assert my_df.iloc[0, 3] == \"male\"\n",
    "assert my_df.iloc[1, 3] == \"female\""
   ]
  },
  {
   "cell_type": "markdown",
   "metadata": {},
   "source": [
    "## Import data"
   ]
  },
  {
   "cell_type": "markdown",
   "metadata": {},
   "source": [
    "![](https://pandas.pydata.org/docs/_images/02_io_readwrite.svg)"
   ]
  },
  {
   "cell_type": "markdown",
   "metadata": {},
   "source": [
    "Pandas supports many different file formats or data sources out of the box (csv, excel, sql, json, parquet, …). Each of them import data with the prefix `read_*`\n",
    "\n",
    "- Next, we import data, available as a CSV file in a GitHub repo \n",
    "\n",
    "Important notes: The CSV file has a typical european format with \n",
    "\n",
    "- `;` as seperators between cells (instead of the Pandas default `,`)\n",
    "- `,` as number decimal seperator (instead of the Pandas default `.`) \n",
    "\n",
    "We need to take care of this issues."
   ]
  },
  {
   "cell_type": "markdown",
   "metadata": {},
   "source": [
    "Hint \n",
    "\n",
    "```python\n",
    "df = pd.___(sep=';', decimal=',')\n",
    "```"
   ]
  },
  {
   "cell_type": "code",
   "execution_count": null,
   "metadata": {},
   "outputs": [],
   "source": [
    "# URL of data\n",
    "URL = \"https://raw.githubusercontent.com/kirenz/datasets/master/height_unclean.csv\""
   ]
  },
  {
   "cell_type": "code",
   "execution_count": null,
   "metadata": {
    "deletable": false,
    "nbgrader": {
     "cell_type": "code",
     "checksum": "b69be2860e674737d8e399e459a6732a",
     "grade": false,
     "grade_id": "read_csv",
     "locked": false,
     "schema_version": 3,
     "solution": true,
     "task": false
    }
   },
   "outputs": [],
   "source": [
    "# YOUR CODE HERE\n",
    "raise NotImplementedError()"
   ]
  },
  {
   "cell_type": "code",
   "execution_count": null,
   "metadata": {
    "deletable": false,
    "editable": false,
    "nbgrader": {
     "cell_type": "code",
     "checksum": "5c5c60a1d8b912f37bc193cd8df6a96f",
     "grade": true,
     "grade_id": "c_read_csv",
     "locked": true,
     "points": 2,
     "schema_version": 3,
     "solution": false,
     "task": false
    }
   },
   "outputs": [],
   "source": [
    "\"\"\"Check that your code returns the correct output\"\"\"\n",
    "assert df.iloc[0, 0] == 'Stefanie'\n",
    "assert df.iloc[0, 3] == 161.5"
   ]
  },
  {
   "cell_type": "markdown",
   "metadata": {},
   "source": [
    "Now we do the same import with a different approach. Use the name `df2` \n",
    "\n",
    "\n",
    "Hint:\n",
    "\n",
    "```python\n",
    "ROOT = \"https://raw.githubusercontent.com/kirenz/datasets/master/\"\n",
    "DATA = \"___\"\n",
    "\n",
    "df2 = pd.read_csv(___ + ___, sep=\";\", decimal=',' )\n",
    "\n",
    "# show head of the data\n",
    "df2.head()\n",
    "```"
   ]
  },
  {
   "cell_type": "code",
   "execution_count": null,
   "metadata": {
    "deletable": false,
    "nbgrader": {
     "cell_type": "code",
     "checksum": "1733f4d78e4cfa2b198eca8f5e36840c",
     "grade": false,
     "grade_id": "df2",
     "locked": false,
     "schema_version": 3,
     "solution": true,
     "task": false
    }
   },
   "outputs": [],
   "source": [
    "# YOUR CODE HERE\n",
    "raise NotImplementedError()"
   ]
  },
  {
   "cell_type": "code",
   "execution_count": null,
   "metadata": {
    "deletable": false,
    "editable": false,
    "nbgrader": {
     "cell_type": "code",
     "checksum": "ea4ffe113d4515be4a4f0e62fe02f3e8",
     "grade": true,
     "grade_id": "c_df2",
     "locked": true,
     "points": 2,
     "schema_version": 3,
     "solution": false,
     "task": false
    }
   },
   "outputs": [],
   "source": [
    "\"\"\"Check that your code returns the correct output\"\"\"\n",
    "assert df2.iloc[0, 0] == 'Stefanie'\n",
    "assert df2.iloc[0, 3] == 161.5"
   ]
  },
  {
   "cell_type": "markdown",
   "metadata": {},
   "source": [
    "## Store data\n",
    "\n",
    "Pandas supports many different file formats (csv, excel, sql, json, parquet, …). Each of them stores data with the prefix `to_*`\n",
    "\n",
    "\n",
    "- The following code should save the data `df` as an Excel file in your current directory.\n",
    "\n",
    "\n",
    "- In the example here, the `sheet_name` is named `people_height` instead of the default Sheet1. \n",
    "\n",
    "\n",
    "- By setting `index=False` the row index labels are not saved in the spreadsheet:"
   ]
  },
  {
   "cell_type": "code",
   "execution_count": null,
   "metadata": {},
   "outputs": [],
   "source": [
    "df.to_excel(\"height.xlsx\", sheet_name=\"people_height\", index=False)"
   ]
  },
  {
   "cell_type": "markdown",
   "metadata": {},
   "source": [
    "- The equivalent read function `read_excel()` would reload the data to a DataFrame:"
   ]
  },
  {
   "cell_type": "code",
   "execution_count": null,
   "metadata": {},
   "outputs": [],
   "source": [
    "# load excel file\n",
    "df_xlsx = pd.read_excel(\"height.xlsx\", sheet_name=\"people_height\")"
   ]
  },
  {
   "cell_type": "markdown",
   "metadata": {},
   "source": [
    "## Viewing data"
   ]
  },
  {
   "cell_type": "markdown",
   "metadata": {},
   "source": [
    "### Overview"
   ]
  },
  {
   "cell_type": "code",
   "execution_count": null,
   "metadata": {},
   "outputs": [],
   "source": [
    "# show df\n",
    "df"
   ]
  },
  {
   "cell_type": "code",
   "execution_count": null,
   "metadata": {},
   "outputs": [],
   "source": [
    "# show first 2 rows\n",
    "df.head(2)"
   ]
  },
  {
   "cell_type": "code",
   "execution_count": null,
   "metadata": {},
   "outputs": [],
   "source": [
    "# show last 2 rows\n",
    "df.tail(2)"
   ]
  },
  {
   "cell_type": "markdown",
   "metadata": {},
   "source": [
    "- The `info()` method prints information about a DataFrame including the index dtype and columns, non-null values and memory usage:"
   ]
  },
  {
   "cell_type": "code",
   "execution_count": null,
   "metadata": {},
   "outputs": [],
   "source": [
    "df.info()"
   ]
  },
  {
   "cell_type": "markdown",
   "metadata": {},
   "source": [
    "### Column names"
   ]
  },
  {
   "cell_type": "code",
   "execution_count": null,
   "metadata": {},
   "outputs": [],
   "source": [
    "# Show columns\n",
    "df.columns"
   ]
  },
  {
   "cell_type": "markdown",
   "metadata": {},
   "source": [
    "### Data type"
   ]
  },
  {
   "cell_type": "markdown",
   "metadata": {},
   "source": [
    "- Show data types ([dtypes](https://pandas.pydata.org/docs/user_guide/basics.html#basics-dtypes))."
   ]
  },
  {
   "cell_type": "code",
   "execution_count": null,
   "metadata": {},
   "outputs": [],
   "source": [
    "df.dtypes"
   ]
  },
  {
   "cell_type": "markdown",
   "metadata": {},
   "source": [
    "- The data types in this DataFrame are integers (int64), floats (float64) and strings (object)."
   ]
  },
  {
   "cell_type": "markdown",
   "metadata": {},
   "source": [
    "### Index"
   ]
  },
  {
   "cell_type": "code",
   "execution_count": null,
   "metadata": {},
   "outputs": [],
   "source": [
    "# Only show index\n",
    "df.index"
   ]
  }
 ],
 "metadata": {
  "interpreter": {
   "hash": "463226f144cc21b006ce6927bfc93dd00694e52c8bc6857abb6e555b983749e9"
  },
  "kernelspec": {
   "display_name": "Python 3 (ipykernel)",
   "language": "python",
   "name": "python3"
  },
  "language_info": {
   "codemirror_mode": {
    "name": "ipython",
    "version": 3
   },
   "file_extension": ".py",
   "mimetype": "text/x-python",
   "name": "python",
   "nbconvert_exporter": "python",
   "pygments_lexer": "ipython3",
   "version": "3.9.13"
  }
 },
 "nbformat": 4,
 "nbformat_minor": 2
}
