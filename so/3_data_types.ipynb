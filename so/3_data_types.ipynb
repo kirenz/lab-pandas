{
 "cells": [
  {
   "cell_type": "markdown",
   "metadata": {},
   "source": [
    "# Change data types and add columns"
   ]
  },
  {
   "cell_type": "markdown",
   "metadata": {},
   "source": [
    "## Import pandas"
   ]
  },
  {
   "cell_type": "code",
   "execution_count": 24,
   "metadata": {},
   "outputs": [],
   "source": [
    "import pandas as pd"
   ]
  },
  {
   "cell_type": "markdown",
   "metadata": {},
   "source": [
    "## Import data"
   ]
  },
  {
   "cell_type": "code",
   "execution_count": 25,
   "metadata": {},
   "outputs": [],
   "source": [
    "# URL of data\n",
    "URL = \"https://raw.githubusercontent.com/kirenz/datasets/master/height_clean.csv\"\n",
    "df = pd.read_csv(URL)"
   ]
  },
  {
   "cell_type": "code",
   "execution_count": 26,
   "metadata": {},
   "outputs": [
    {
     "data": {
      "text/plain": [
       "name                       object\n",
       "id                          int64\n",
       "height                      int64\n",
       "average_height_parents    float64\n",
       "gender                     object\n",
       "dtype: object"
      ]
     },
     "execution_count": 26,
     "metadata": {},
     "output_type": "execute_result"
    }
   ],
   "source": [
    "df.dtypes"
   ]
  },
  {
   "cell_type": "markdown",
   "metadata": {},
   "source": [
    "## Change data type\n",
    "\n",
    "- There are several methods to [change data types in pandas](https://pandas.pydata.org/docs/reference/api/pandas.DataFrame.astype.html):\n",
    "\n",
    "The most common method to change the data type is:\n",
    "\n",
    "- `.astype()`: Convert to a specific type (like \"int32\", \"float\" or \"catgeory\")\n",
    "- `.astype(str)`: Convert to string  \n",
    "  \n",
    "More options:  \n",
    "  \n",
    "- `to_datetime`: Convert argument to datetime.\n",
    "- `to_timedelta`: Convert argument to timedelta.\n",
    "- `to_numeric`: Convert argument to a numeric type.\n",
    "- `numpy.ndarray.astype`: Cast a numpy array to a specified type."
   ]
  },
  {
   "cell_type": "markdown",
   "metadata": {},
   "source": [
    "### Categorical data\n",
    "\n",
    "- Categoricals are a pandas data type corresponding to categorical variables in statistics. \n",
    "\n",
    "\n",
    "- A categorical variable takes on a limited, and usually fixed, number of possible values (categories). Examples are gender, social class, blood type, country affiliation, observation time or rating via Likert scales.\n",
    "\n",
    "\n",
    "- Convert variable \"gender\" to a category dtype:"
   ]
  },
  {
   "cell_type": "code",
   "execution_count": 27,
   "metadata": {},
   "outputs": [],
   "source": [
    "df[\"gender\"] = df[\"gender\"].astype(\"category\")"
   ]
  },
  {
   "cell_type": "markdown",
   "metadata": {},
   "source": [
    "### String data\n",
    "\n",
    "- In our example, `id` is not a number (we can't perform calculations with it)\n",
    "- It is just a unique identifier so we should transform it to a simple string (object)"
   ]
  },
  {
   "cell_type": "markdown",
   "metadata": {},
   "source": [
    "Hint:\n",
    "\n",
    "```python\n",
    "df['___'] = df['___'].___(___)\n",
    "```\n"
   ]
  },
  {
   "cell_type": "code",
   "execution_count": 28,
   "metadata": {
    "nbgrader": {
     "grade": false,
     "grade_id": "id",
     "locked": false,
     "schema_version": 3,
     "solution": true,
     "task": false
    }
   },
   "outputs": [],
   "source": [
    "### BEGIN SOLUTION\n",
    "df['id'] = df['id'].astype(str)\n",
    "### END SOLUTION"
   ]
  },
  {
   "cell_type": "code",
   "execution_count": 29,
   "metadata": {
    "nbgrader": {
     "grade": true,
     "grade_id": "c_id",
     "locked": true,
     "points": 2,
     "schema_version": 3,
     "solution": false,
     "task": false
    }
   },
   "outputs": [],
   "source": [
    "\"\"\"Check if your code returns the correct output\"\"\"\n",
    "assert df.select_dtypes(include=[\"number\"]).columns.to_list() == ['height', 'average_height_parents']\n",
    "assert df.select_dtypes(include=[\"object\"]).columns.to_list() == ['name', 'id']"
   ]
  },
  {
   "cell_type": "markdown",
   "metadata": {},
   "source": [
    "## Add new columns"
   ]
  },
  {
   "cell_type": "markdown",
   "metadata": {},
   "source": [
    "### Constant"
   ]
  },
  {
   "cell_type": "markdown",
   "metadata": {},
   "source": [
    "- Add a new variable called \"number\" to df \n",
    "- The new variable should have the number 42 in all rows\n"
   ]
  },
  {
   "cell_type": "markdown",
   "metadata": {},
   "source": [
    "Hint:\n",
    "  \n",
    "```python\n",
    "df[\"___\"] = ___\n",
    "```"
   ]
  },
  {
   "cell_type": "code",
   "execution_count": 30,
   "metadata": {
    "nbgrader": {
     "grade": false,
     "grade_id": "add",
     "locked": false,
     "schema_version": 3,
     "solution": true,
     "task": false
    }
   },
   "outputs": [],
   "source": [
    "### BEGIN SOLUTION\n",
    "df[\"number\"] = 42\n",
    "### END SOLUTION"
   ]
  },
  {
   "cell_type": "code",
   "execution_count": 31,
   "metadata": {
    "nbgrader": {
     "grade": true,
     "grade_id": "c_add",
     "locked": true,
     "points": 2,
     "schema_version": 3,
     "solution": false,
     "task": false
    }
   },
   "outputs": [],
   "source": [
    "\"\"\"Check if your code returns the correct output\"\"\"\n",
    "assert df.loc[[0], \"number\"].to_list() == [42]"
   ]
  },
  {
   "cell_type": "markdown",
   "metadata": {},
   "source": [
    "### From existing\n",
    "\n",
    " - Create new columns from existing columns"
   ]
  },
  {
   "cell_type": "code",
   "execution_count": 32,
   "metadata": {},
   "outputs": [],
   "source": [
    "# we use numpy to add some data with a nornmal distribution \n",
    "import numpy as np\n",
    "\n",
    "# calculate height in m (from cm)\n",
    "df['height_m'] = df.height/100 \n",
    "\n",
    "# add 20 random normal distributed numbers with a mean of 45 and standard deviation of 5\n",
    "df['weight'] = round(np.random.normal(45, 5, 20) * df['height_m'],2)\n",
    "\n",
    "# calculate body mass index\n",
    "df['bmi'] = round(df.weight / (df.height_m * df.height_m),2)"
   ]
  },
  {
   "cell_type": "code",
   "execution_count": 33,
   "metadata": {},
   "outputs": [
    {
     "data": {
      "text/html": [
       "<div>\n",
       "<style scoped>\n",
       "    .dataframe tbody tr th:only-of-type {\n",
       "        vertical-align: middle;\n",
       "    }\n",
       "\n",
       "    .dataframe tbody tr th {\n",
       "        vertical-align: top;\n",
       "    }\n",
       "\n",
       "    .dataframe thead th {\n",
       "        text-align: right;\n",
       "    }\n",
       "</style>\n",
       "<table border=\"1\" class=\"dataframe\">\n",
       "  <thead>\n",
       "    <tr style=\"text-align: right;\">\n",
       "      <th></th>\n",
       "      <th>name</th>\n",
       "      <th>id</th>\n",
       "      <th>height</th>\n",
       "      <th>average_height_parents</th>\n",
       "      <th>gender</th>\n",
       "      <th>number</th>\n",
       "      <th>height_m</th>\n",
       "      <th>weight</th>\n",
       "      <th>bmi</th>\n",
       "    </tr>\n",
       "  </thead>\n",
       "  <tbody>\n",
       "    <tr>\n",
       "      <th>0</th>\n",
       "      <td>Stefanie</td>\n",
       "      <td>1</td>\n",
       "      <td>162</td>\n",
       "      <td>161.5</td>\n",
       "      <td>female</td>\n",
       "      <td>42</td>\n",
       "      <td>1.62</td>\n",
       "      <td>67.45</td>\n",
       "      <td>25.70</td>\n",
       "    </tr>\n",
       "    <tr>\n",
       "      <th>1</th>\n",
       "      <td>Peter</td>\n",
       "      <td>2</td>\n",
       "      <td>163</td>\n",
       "      <td>163.5</td>\n",
       "      <td>male</td>\n",
       "      <td>42</td>\n",
       "      <td>1.63</td>\n",
       "      <td>82.53</td>\n",
       "      <td>31.06</td>\n",
       "    </tr>\n",
       "    <tr>\n",
       "      <th>2</th>\n",
       "      <td>Stefanie</td>\n",
       "      <td>3</td>\n",
       "      <td>163</td>\n",
       "      <td>163.2</td>\n",
       "      <td>female</td>\n",
       "      <td>42</td>\n",
       "      <td>1.63</td>\n",
       "      <td>88.18</td>\n",
       "      <td>33.19</td>\n",
       "    </tr>\n",
       "    <tr>\n",
       "      <th>3</th>\n",
       "      <td>Manuela</td>\n",
       "      <td>4</td>\n",
       "      <td>164</td>\n",
       "      <td>165.1</td>\n",
       "      <td>female</td>\n",
       "      <td>42</td>\n",
       "      <td>1.64</td>\n",
       "      <td>81.70</td>\n",
       "      <td>30.38</td>\n",
       "    </tr>\n",
       "    <tr>\n",
       "      <th>4</th>\n",
       "      <td>Simon</td>\n",
       "      <td>5</td>\n",
       "      <td>164</td>\n",
       "      <td>163.2</td>\n",
       "      <td>male</td>\n",
       "      <td>42</td>\n",
       "      <td>1.64</td>\n",
       "      <td>78.16</td>\n",
       "      <td>29.06</td>\n",
       "    </tr>\n",
       "  </tbody>\n",
       "</table>\n",
       "</div>"
      ],
      "text/plain": [
       "       name id  height  average_height_parents  gender  number  height_m  \\\n",
       "0  Stefanie  1     162                   161.5  female      42      1.62   \n",
       "1     Peter  2     163                   163.5    male      42      1.63   \n",
       "2  Stefanie  3     163                   163.2  female      42      1.63   \n",
       "3   Manuela  4     164                   165.1  female      42      1.64   \n",
       "4     Simon  5     164                   163.2    male      42      1.64   \n",
       "\n",
       "   weight    bmi  \n",
       "0   67.45  25.70  \n",
       "1   82.53  31.06  \n",
       "2   88.18  33.19  \n",
       "3   81.70  30.38  \n",
       "4   78.16  29.06  "
      ]
     },
     "execution_count": 33,
     "metadata": {},
     "output_type": "execute_result"
    }
   ],
   "source": [
    "df.head()"
   ]
  },
  {
   "cell_type": "markdown",
   "metadata": {},
   "source": [
    "### Date"
   ]
  },
  {
   "cell_type": "markdown",
   "metadata": {},
   "source": [
    "- To add a date, we can use datetime and [strftime](https://strftime.org) (see code examples below):"
   ]
  },
  {
   "cell_type": "code",
   "execution_count": 34,
   "metadata": {},
   "outputs": [],
   "source": [
    "# we need datetime to add a date\n",
    "from datetime import datetime"
   ]
  },
  {
   "cell_type": "code",
   "execution_count": 37,
   "metadata": {},
   "outputs": [
    {
     "data": {
      "text/html": [
       "<div>\n",
       "<style scoped>\n",
       "    .dataframe tbody tr th:only-of-type {\n",
       "        vertical-align: middle;\n",
       "    }\n",
       "\n",
       "    .dataframe tbody tr th {\n",
       "        vertical-align: top;\n",
       "    }\n",
       "\n",
       "    .dataframe thead th {\n",
       "        text-align: right;\n",
       "    }\n",
       "</style>\n",
       "<table border=\"1\" class=\"dataframe\">\n",
       "  <thead>\n",
       "    <tr style=\"text-align: right;\">\n",
       "      <th></th>\n",
       "      <th>name</th>\n",
       "      <th>id</th>\n",
       "      <th>height</th>\n",
       "      <th>average_height_parents</th>\n",
       "      <th>gender</th>\n",
       "      <th>number</th>\n",
       "      <th>height_m</th>\n",
       "      <th>weight</th>\n",
       "      <th>bmi</th>\n",
       "      <th>date</th>\n",
       "    </tr>\n",
       "  </thead>\n",
       "  <tbody>\n",
       "    <tr>\n",
       "      <th>0</th>\n",
       "      <td>Stefanie</td>\n",
       "      <td>1</td>\n",
       "      <td>162</td>\n",
       "      <td>161.5</td>\n",
       "      <td>female</td>\n",
       "      <td>42</td>\n",
       "      <td>1.62</td>\n",
       "      <td>67.45</td>\n",
       "      <td>25.70</td>\n",
       "      <td>2022-10-08</td>\n",
       "    </tr>\n",
       "    <tr>\n",
       "      <th>1</th>\n",
       "      <td>Peter</td>\n",
       "      <td>2</td>\n",
       "      <td>163</td>\n",
       "      <td>163.5</td>\n",
       "      <td>male</td>\n",
       "      <td>42</td>\n",
       "      <td>1.63</td>\n",
       "      <td>82.53</td>\n",
       "      <td>31.06</td>\n",
       "      <td>2022-10-08</td>\n",
       "    </tr>\n",
       "    <tr>\n",
       "      <th>2</th>\n",
       "      <td>Stefanie</td>\n",
       "      <td>3</td>\n",
       "      <td>163</td>\n",
       "      <td>163.2</td>\n",
       "      <td>female</td>\n",
       "      <td>42</td>\n",
       "      <td>1.63</td>\n",
       "      <td>88.18</td>\n",
       "      <td>33.19</td>\n",
       "      <td>2022-10-08</td>\n",
       "    </tr>\n",
       "  </tbody>\n",
       "</table>\n",
       "</div>"
      ],
      "text/plain": [
       "       name id  height  average_height_parents  gender  number  height_m  \\\n",
       "0  Stefanie  1     162                   161.5  female      42      1.62   \n",
       "1     Peter  2     163                   163.5    male      42      1.63   \n",
       "2  Stefanie  3     163                   163.2  female      42      1.63   \n",
       "\n",
       "   weight    bmi        date  \n",
       "0   67.45  25.70  2022-10-08  \n",
       "1   82.53  31.06  2022-10-08  \n",
       "2   88.18  33.19  2022-10-08  "
      ]
     },
     "execution_count": 37,
     "metadata": {},
     "output_type": "execute_result"
    }
   ],
   "source": [
    "df[\"date\"] = datetime.today().strftime('%Y-%m-%d')\n",
    "\n",
    "df.head(3)"
   ]
  },
  {
   "cell_type": "markdown",
   "metadata": {},
   "source": [
    "| Code | Example                 | Description                                                                                                                                                                      |\n",
    "| ---- | ----------------------- | -------------------------------------------------------------------------------------------------------------------------------------------------------------------------------- |\n",
    "| %a   | Sun                     | Weekday as locale’s abbreviated name.                                                                                                                                            |\n",
    "| %A   | Sunday                  | Weekday as locale’s full name.                                                                                                                                                   |\n",
    "| %w   | 0                       | Weekday as a decimal number, where 0 is Sunday and 6 is Saturday.                                                                                                                |\n",
    "| %d   | 8                       | Day of the month as a zero-padded decimal number.                                                                                                                                |\n",
    "| %-d  | 8                       | Day of the month as a decimal number. (Platform specific)                                                                                                                        |\n",
    "| %b   | Sep                     | Month as locale’s abbreviated name.                                                                                                                                              |\n",
    "| %B   | September               | Month as locale’s full name.                                                                                                                                                     |\n",
    "| %m   | 9                       | Month as a zero-padded decimal number.                                                                                                                                           |\n",
    "| %-m  | 9                       | Month as a decimal number. (Platform specific)                                                                                                                                   |\n",
    "| %y   | 13                      | Year without century as a zero-padded decimal number.                                                                                                                            |\n",
    "| %Y   | 2013                    | Year with century as a decimal number.                                                                                                                                           |\n",
    "| %H   | 7                       | Hour (24-hour clock) as a zero-padded decimal number.                                                                                                                            |\n",
    "| %-H  | 7                       | Hour (24-hour clock) as a decimal number. (Platform specific)                                                                                                                    |\n",
    "| %I   | 7                       | Hour (12-hour clock) as a zero-padded decimal number.                                                                                                                            |\n",
    "| %-I  | 7                       | Hour (12-hour clock) as a decimal number. (Platform specific)                                                                                                                    |\n",
    "| %p   | AM                      | Locale’s equivalent of either AM or PM.                                                                                                                                          |\n",
    "| %M   | 6                       | Minute as a zero-padded decimal number.                                                                                                                                          |\n",
    "| %-M  | 6                       | Minute as a decimal number. (Platform specific)                                                                                                                                  |\n",
    "| %S   | 5                       | Second as a zero-padded decimal number.                                                                                                                                          |\n",
    "| %-S  | 5                       | Second as a decimal number. (Platform specific)                                                                                                                                  |\n",
    "| %f   | 0                       | Microsecond as a decimal number, zero-padded on the left.                                                                                                                        |\n",
    "| %z   | 0                       | UTC offset in the form ±HHMM\\[SS\\[.ffffff\\]\\] (empty string if the object is naive).                                                                                             |\n",
    "| %Z   | UTC                     | Time zone name (empty string if the object is naive).                                                                                                                            |\n",
    "| %j   | 251                     | Day of the year as a zero-padded decimal number.                                                                                                                                 |\n",
    "| %-j  | 251                     | Day of the year as a decimal number. (Platform specific)                                                                                                                         |\n",
    "| %U   | 36                      | Week number of the year (Sunday as the first day of the week) as a zero padded decimal number. All days in a new year preceding the first Sunday are considered to be in week 0. |\n",
    "| %W   | 35                      | Week number of the year (Monday as the first day of the week) as a decimal number. All days in a new year preceding the first Monday are considered to be in week 0.             |\n",
    "| %c   | Sun Sep 8 07:06:05 2013 | Locale’s appropriate date and time representation.                                                                                                                               |\n",
    "| %x   | 09.08.13                | Locale’s appropriate date representation.                                                                                                                                        |\n",
    "| %X   | 07:06:05                | Locale’s appropriate time representation.                                                                                                                                        |\n",
    "| %%   | %                       | A literal '%' character.                                                                                                                                                         |"
   ]
  }
 ],
 "metadata": {
  "celltoolbar": "Create Assignment",
  "interpreter": {
   "hash": "463226f144cc21b006ce6927bfc93dd00694e52c8bc6857abb6e555b983749e9"
  },
  "kernelspec": {
   "display_name": "Python 3 (ipykernel)",
   "language": "python",
   "name": "python3"
  },
  "language_info": {
   "codemirror_mode": {
    "name": "ipython",
    "version": 3
   },
   "file_extension": ".py",
   "mimetype": "text/x-python",
   "name": "python",
   "nbconvert_exporter": "python",
   "pygments_lexer": "ipython3",
   "version": "3.9.13"
  }
 },
 "nbformat": 4,
 "nbformat_minor": 2
}
