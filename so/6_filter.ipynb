{
 "cells": [
  {
   "cell_type": "markdown",
   "metadata": {},
   "source": [
    "# Filter, grouping and binning "
   ]
  },
  {
   "cell_type": "markdown",
   "metadata": {},
   "source": [
    "## Import pandas"
   ]
  },
  {
   "cell_type": "code",
   "execution_count": 1,
   "metadata": {},
   "outputs": [],
   "source": [
    "import pandas as pd"
   ]
  },
  {
   "cell_type": "markdown",
   "metadata": {},
   "source": [
    "## Import data"
   ]
  },
  {
   "cell_type": "code",
   "execution_count": 2,
   "metadata": {},
   "outputs": [],
   "source": [
    "URL = \"https://raw.githubusercontent.com/kirenz/datasets/master/height_clean_cols.csv\"\n",
    "df = pd.read_csv(URL)"
   ]
  },
  {
   "cell_type": "markdown",
   "metadata": {},
   "source": [
    "## Filter \n",
    "\n",
    "Using a single column’s values to filter data (boolean indexing)."
   ]
  },
  {
   "cell_type": "code",
   "execution_count": 3,
   "metadata": {},
   "outputs": [
    {
     "data": {
      "text/html": [
       "<div>\n",
       "<style scoped>\n",
       "    .dataframe tbody tr th:only-of-type {\n",
       "        vertical-align: middle;\n",
       "    }\n",
       "\n",
       "    .dataframe tbody tr th {\n",
       "        vertical-align: top;\n",
       "    }\n",
       "\n",
       "    .dataframe thead th {\n",
       "        text-align: right;\n",
       "    }\n",
       "</style>\n",
       "<table border=\"1\" class=\"dataframe\">\n",
       "  <thead>\n",
       "    <tr style=\"text-align: right;\">\n",
       "      <th></th>\n",
       "      <th>name</th>\n",
       "      <th>id</th>\n",
       "      <th>height</th>\n",
       "      <th>average_height_parents</th>\n",
       "      <th>gender</th>\n",
       "      <th>number</th>\n",
       "      <th>height_m</th>\n",
       "      <th>weight</th>\n",
       "      <th>bmi</th>\n",
       "      <th>date</th>\n",
       "    </tr>\n",
       "  </thead>\n",
       "  <tbody>\n",
       "    <tr>\n",
       "      <th>17</th>\n",
       "      <td>Tom</td>\n",
       "      <td>18</td>\n",
       "      <td>167</td>\n",
       "      <td>166.2</td>\n",
       "      <td>male</td>\n",
       "      <td>42</td>\n",
       "      <td>1.67</td>\n",
       "      <td>63.91</td>\n",
       "      <td>22.92</td>\n",
       "      <td>2022-10-08</td>\n",
       "    </tr>\n",
       "    <tr>\n",
       "      <th>18</th>\n",
       "      <td>Steven</td>\n",
       "      <td>19</td>\n",
       "      <td>167</td>\n",
       "      <td>167.3</td>\n",
       "      <td>male</td>\n",
       "      <td>42</td>\n",
       "      <td>1.67</td>\n",
       "      <td>75.71</td>\n",
       "      <td>27.15</td>\n",
       "      <td>2022-10-08</td>\n",
       "    </tr>\n",
       "    <tr>\n",
       "      <th>19</th>\n",
       "      <td>Emanuel</td>\n",
       "      <td>20</td>\n",
       "      <td>168</td>\n",
       "      <td>168.5</td>\n",
       "      <td>male</td>\n",
       "      <td>42</td>\n",
       "      <td>1.68</td>\n",
       "      <td>79.22</td>\n",
       "      <td>28.07</td>\n",
       "      <td>2022-10-08</td>\n",
       "    </tr>\n",
       "  </tbody>\n",
       "</table>\n",
       "</div>"
      ],
      "text/plain": [
       "       name  id  height  average_height_parents gender  number  height_m  \\\n",
       "17      Tom  18     167                   166.2   male      42      1.67   \n",
       "18   Steven  19     167                   167.3   male      42      1.67   \n",
       "19  Emanuel  20     168                   168.5   male      42      1.68   \n",
       "\n",
       "    weight    bmi        date  \n",
       "17   63.91  22.92  2022-10-08  \n",
       "18   75.71  27.15  2022-10-08  \n",
       "19   79.22  28.07  2022-10-08  "
      ]
     },
     "execution_count": 3,
     "metadata": {},
     "output_type": "execute_result"
    }
   ],
   "source": [
    "df[df[\"height\"] >= 167]"
   ]
  },
  {
   "cell_type": "markdown",
   "metadata": {},
   "source": [
    "Combine filtering for two columns or more with `&` (and)"
   ]
  },
  {
   "cell_type": "code",
   "execution_count": 4,
   "metadata": {},
   "outputs": [
    {
     "data": {
      "text/html": [
       "<div>\n",
       "<style scoped>\n",
       "    .dataframe tbody tr th:only-of-type {\n",
       "        vertical-align: middle;\n",
       "    }\n",
       "\n",
       "    .dataframe tbody tr th {\n",
       "        vertical-align: top;\n",
       "    }\n",
       "\n",
       "    .dataframe thead th {\n",
       "        text-align: right;\n",
       "    }\n",
       "</style>\n",
       "<table border=\"1\" class=\"dataframe\">\n",
       "  <thead>\n",
       "    <tr style=\"text-align: right;\">\n",
       "      <th></th>\n",
       "      <th>name</th>\n",
       "      <th>id</th>\n",
       "      <th>height</th>\n",
       "      <th>average_height_parents</th>\n",
       "      <th>gender</th>\n",
       "      <th>number</th>\n",
       "      <th>height_m</th>\n",
       "      <th>weight</th>\n",
       "      <th>bmi</th>\n",
       "      <th>date</th>\n",
       "    </tr>\n",
       "  </thead>\n",
       "  <tbody>\n",
       "    <tr>\n",
       "      <th>17</th>\n",
       "      <td>Tom</td>\n",
       "      <td>18</td>\n",
       "      <td>167</td>\n",
       "      <td>166.2</td>\n",
       "      <td>male</td>\n",
       "      <td>42</td>\n",
       "      <td>1.67</td>\n",
       "      <td>63.91</td>\n",
       "      <td>22.92</td>\n",
       "      <td>2022-10-08</td>\n",
       "    </tr>\n",
       "  </tbody>\n",
       "</table>\n",
       "</div>"
      ],
      "text/plain": [
       "   name  id  height  average_height_parents gender  number  height_m  weight  \\\n",
       "17  Tom  18     167                   166.2   male      42      1.67   63.91   \n",
       "\n",
       "      bmi        date  \n",
       "17  22.92  2022-10-08  "
      ]
     },
     "execution_count": 4,
     "metadata": {},
     "output_type": "execute_result"
    }
   ],
   "source": [
    "df[(df[\"height\"] >= 167) & (df[\"weight\"] < 74) ]"
   ]
  },
  {
   "cell_type": "markdown",
   "metadata": {},
   "source": [
    "You can also combine filtering for two columns or more with `|` (or)"
   ]
  },
  {
   "cell_type": "code",
   "execution_count": 5,
   "metadata": {},
   "outputs": [
    {
     "data": {
      "text/html": [
       "<div>\n",
       "<style scoped>\n",
       "    .dataframe tbody tr th:only-of-type {\n",
       "        vertical-align: middle;\n",
       "    }\n",
       "\n",
       "    .dataframe tbody tr th {\n",
       "        vertical-align: top;\n",
       "    }\n",
       "\n",
       "    .dataframe thead th {\n",
       "        text-align: right;\n",
       "    }\n",
       "</style>\n",
       "<table border=\"1\" class=\"dataframe\">\n",
       "  <thead>\n",
       "    <tr style=\"text-align: right;\">\n",
       "      <th></th>\n",
       "      <th>name</th>\n",
       "      <th>id</th>\n",
       "      <th>height</th>\n",
       "      <th>average_height_parents</th>\n",
       "      <th>gender</th>\n",
       "      <th>number</th>\n",
       "      <th>height_m</th>\n",
       "      <th>weight</th>\n",
       "      <th>bmi</th>\n",
       "      <th>date</th>\n",
       "    </tr>\n",
       "  </thead>\n",
       "  <tbody>\n",
       "    <tr>\n",
       "      <th>1</th>\n",
       "      <td>Peter</td>\n",
       "      <td>2</td>\n",
       "      <td>163</td>\n",
       "      <td>163.5</td>\n",
       "      <td>male</td>\n",
       "      <td>42</td>\n",
       "      <td>1.63</td>\n",
       "      <td>70.57</td>\n",
       "      <td>26.56</td>\n",
       "      <td>2022-10-08</td>\n",
       "    </tr>\n",
       "    <tr>\n",
       "      <th>5</th>\n",
       "      <td>Sophia</td>\n",
       "      <td>6</td>\n",
       "      <td>164</td>\n",
       "      <td>164.4</td>\n",
       "      <td>female</td>\n",
       "      <td>42</td>\n",
       "      <td>1.64</td>\n",
       "      <td>58.06</td>\n",
       "      <td>21.59</td>\n",
       "      <td>2022-10-08</td>\n",
       "    </tr>\n",
       "    <tr>\n",
       "      <th>11</th>\n",
       "      <td>Mila</td>\n",
       "      <td>12</td>\n",
       "      <td>165</td>\n",
       "      <td>167.4</td>\n",
       "      <td>female</td>\n",
       "      <td>42</td>\n",
       "      <td>1.65</td>\n",
       "      <td>68.03</td>\n",
       "      <td>24.99</td>\n",
       "      <td>2022-10-08</td>\n",
       "    </tr>\n",
       "    <tr>\n",
       "      <th>12</th>\n",
       "      <td>Fin</td>\n",
       "      <td>13</td>\n",
       "      <td>165</td>\n",
       "      <td>165.5</td>\n",
       "      <td>male</td>\n",
       "      <td>42</td>\n",
       "      <td>1.65</td>\n",
       "      <td>68.01</td>\n",
       "      <td>24.98</td>\n",
       "      <td>2022-10-08</td>\n",
       "    </tr>\n",
       "    <tr>\n",
       "      <th>15</th>\n",
       "      <td>Marc</td>\n",
       "      <td>16</td>\n",
       "      <td>166</td>\n",
       "      <td>166.5</td>\n",
       "      <td>male</td>\n",
       "      <td>42</td>\n",
       "      <td>1.66</td>\n",
       "      <td>63.15</td>\n",
       "      <td>22.92</td>\n",
       "      <td>2022-10-08</td>\n",
       "    </tr>\n",
       "    <tr>\n",
       "      <th>16</th>\n",
       "      <td>Ralph</td>\n",
       "      <td>17</td>\n",
       "      <td>166</td>\n",
       "      <td>166.6</td>\n",
       "      <td>male</td>\n",
       "      <td>42</td>\n",
       "      <td>1.66</td>\n",
       "      <td>62.02</td>\n",
       "      <td>22.51</td>\n",
       "      <td>2022-10-08</td>\n",
       "    </tr>\n",
       "    <tr>\n",
       "      <th>17</th>\n",
       "      <td>Tom</td>\n",
       "      <td>18</td>\n",
       "      <td>167</td>\n",
       "      <td>166.2</td>\n",
       "      <td>male</td>\n",
       "      <td>42</td>\n",
       "      <td>1.67</td>\n",
       "      <td>63.91</td>\n",
       "      <td>22.92</td>\n",
       "      <td>2022-10-08</td>\n",
       "    </tr>\n",
       "    <tr>\n",
       "      <th>18</th>\n",
       "      <td>Steven</td>\n",
       "      <td>19</td>\n",
       "      <td>167</td>\n",
       "      <td>167.3</td>\n",
       "      <td>male</td>\n",
       "      <td>42</td>\n",
       "      <td>1.67</td>\n",
       "      <td>75.71</td>\n",
       "      <td>27.15</td>\n",
       "      <td>2022-10-08</td>\n",
       "    </tr>\n",
       "    <tr>\n",
       "      <th>19</th>\n",
       "      <td>Emanuel</td>\n",
       "      <td>20</td>\n",
       "      <td>168</td>\n",
       "      <td>168.5</td>\n",
       "      <td>male</td>\n",
       "      <td>42</td>\n",
       "      <td>1.68</td>\n",
       "      <td>79.22</td>\n",
       "      <td>28.07</td>\n",
       "      <td>2022-10-08</td>\n",
       "    </tr>\n",
       "  </tbody>\n",
       "</table>\n",
       "</div>"
      ],
      "text/plain": [
       "       name  id  height  average_height_parents  gender  number  height_m  \\\n",
       "1     Peter   2     163                   163.5    male      42      1.63   \n",
       "5    Sophia   6     164                   164.4  female      42      1.64   \n",
       "11     Mila  12     165                   167.4  female      42      1.65   \n",
       "12      Fin  13     165                   165.5    male      42      1.65   \n",
       "15     Marc  16     166                   166.5    male      42      1.66   \n",
       "16    Ralph  17     166                   166.6    male      42      1.66   \n",
       "17      Tom  18     167                   166.2    male      42      1.67   \n",
       "18   Steven  19     167                   167.3    male      42      1.67   \n",
       "19  Emanuel  20     168                   168.5    male      42      1.68   \n",
       "\n",
       "    weight    bmi        date  \n",
       "1    70.57  26.56  2022-10-08  \n",
       "5    58.06  21.59  2022-10-08  \n",
       "11   68.03  24.99  2022-10-08  \n",
       "12   68.01  24.98  2022-10-08  \n",
       "15   63.15  22.92  2022-10-08  \n",
       "16   62.02  22.51  2022-10-08  \n",
       "17   63.91  22.92  2022-10-08  \n",
       "18   75.71  27.15  2022-10-08  \n",
       "19   79.22  28.07  2022-10-08  "
      ]
     },
     "execution_count": 5,
     "metadata": {},
     "output_type": "execute_result"
    }
   ],
   "source": [
    "df[(df[\"height\"] >= 167) | (df[\"weight\"] < 74) ]"
   ]
  },
  {
   "cell_type": "markdown",
   "metadata": {},
   "source": [
    "- Filter people with a weight greater as 84 and save it as `df_weight_greater_84`"
   ]
  },
  {
   "cell_type": "code",
   "execution_count": 6,
   "metadata": {
    "nbgrader": {
     "grade": false,
     "grade_id": "weight",
     "locked": false,
     "schema_version": 3,
     "solution": true,
     "task": false
    }
   },
   "outputs": [],
   "source": [
    "### BEGIN SOLUTION\n",
    "df_weight_greater_84 = df[df[\"weight\"] > 84]\n",
    "### END SOLUTION"
   ]
  },
  {
   "cell_type": "code",
   "execution_count": 7,
   "metadata": {
    "nbgrader": {
     "grade": true,
     "grade_id": "c_weight",
     "locked": true,
     "points": 2,
     "schema_version": 3,
     "solution": false,
     "task": false
    }
   },
   "outputs": [],
   "source": [
    "\"\"\"Check if your code returns the correct output\"\"\"\n",
    "assert len(df_weight_greater_84) == 2\n",
    "assert df_weight_greater_84.iloc[0, 0] == \"Stefanie\"\n",
    "assert df_weight_greater_84.iloc[1, 0] == \"Eric\""
   ]
  },
  {
   "cell_type": "markdown",
   "metadata": {},
   "source": [
    "Always use the [isin()](https://pandas.pydata.org/docs/reference/api/pandas.Series.isin.html#pandas.Series.isin) method if you have multiple conditions within one column:"
   ]
  },
  {
   "cell_type": "code",
   "execution_count": 8,
   "metadata": {},
   "outputs": [
    {
     "data": {
      "text/html": [
       "<div>\n",
       "<style scoped>\n",
       "    .dataframe tbody tr th:only-of-type {\n",
       "        vertical-align: middle;\n",
       "    }\n",
       "\n",
       "    .dataframe tbody tr th {\n",
       "        vertical-align: top;\n",
       "    }\n",
       "\n",
       "    .dataframe thead th {\n",
       "        text-align: right;\n",
       "    }\n",
       "</style>\n",
       "<table border=\"1\" class=\"dataframe\">\n",
       "  <thead>\n",
       "    <tr style=\"text-align: right;\">\n",
       "      <th></th>\n",
       "      <th>name</th>\n",
       "      <th>id</th>\n",
       "      <th>height</th>\n",
       "      <th>average_height_parents</th>\n",
       "      <th>gender</th>\n",
       "      <th>number</th>\n",
       "      <th>height_m</th>\n",
       "      <th>weight</th>\n",
       "      <th>bmi</th>\n",
       "      <th>date</th>\n",
       "    </tr>\n",
       "  </thead>\n",
       "  <tbody>\n",
       "    <tr>\n",
       "      <th>17</th>\n",
       "      <td>Tom</td>\n",
       "      <td>18</td>\n",
       "      <td>167</td>\n",
       "      <td>166.2</td>\n",
       "      <td>male</td>\n",
       "      <td>42</td>\n",
       "      <td>1.67</td>\n",
       "      <td>63.91</td>\n",
       "      <td>22.92</td>\n",
       "      <td>2022-10-08</td>\n",
       "    </tr>\n",
       "    <tr>\n",
       "      <th>18</th>\n",
       "      <td>Steven</td>\n",
       "      <td>19</td>\n",
       "      <td>167</td>\n",
       "      <td>167.3</td>\n",
       "      <td>male</td>\n",
       "      <td>42</td>\n",
       "      <td>1.67</td>\n",
       "      <td>75.71</td>\n",
       "      <td>27.15</td>\n",
       "      <td>2022-10-08</td>\n",
       "    </tr>\n",
       "  </tbody>\n",
       "</table>\n",
       "</div>"
      ],
      "text/plain": [
       "      name  id  height  average_height_parents gender  number  height_m  \\\n",
       "17     Tom  18     167                   166.2   male      42      1.67   \n",
       "18  Steven  19     167                   167.3   male      42      1.67   \n",
       "\n",
       "    weight    bmi        date  \n",
       "17   63.91  22.92  2022-10-08  \n",
       "18   75.71  27.15  2022-10-08  "
      ]
     },
     "execution_count": 8,
     "metadata": {},
     "output_type": "execute_result"
    }
   ],
   "source": [
    "df[df[\"name\"].isin([\"Tom\", \"Steven\"])]"
   ]
  },
  {
   "cell_type": "markdown",
   "metadata": {},
   "source": [
    "## Grouping\n",
    "\n",
    "By “group by” we are referring to a process involving one or more of the following steps:\n",
    "\n",
    "- **Splitting** the data into groups based on some criteria\n",
    "\n",
    "- **Applying** a function to each group independently\n",
    "\n",
    "- **Combining** the results into a data structure"
   ]
  },
  {
   "cell_type": "markdown",
   "metadata": {},
   "source": [
    "Grouping and then applying the `mean()` function to the resulting groups. Furthermore, we round the results and transpose the data."
   ]
  },
  {
   "cell_type": "code",
   "execution_count": 9,
   "metadata": {},
   "outputs": [
    {
     "data": {
      "text/html": [
       "<div>\n",
       "<style scoped>\n",
       "    .dataframe tbody tr th:only-of-type {\n",
       "        vertical-align: middle;\n",
       "    }\n",
       "\n",
       "    .dataframe tbody tr th {\n",
       "        vertical-align: top;\n",
       "    }\n",
       "\n",
       "    .dataframe thead th {\n",
       "        text-align: right;\n",
       "    }\n",
       "</style>\n",
       "<table border=\"1\" class=\"dataframe\">\n",
       "  <thead>\n",
       "    <tr style=\"text-align: right;\">\n",
       "      <th>gender</th>\n",
       "      <th>female</th>\n",
       "      <th>male</th>\n",
       "    </tr>\n",
       "  </thead>\n",
       "  <tbody>\n",
       "    <tr>\n",
       "      <th>id</th>\n",
       "      <td>7.82</td>\n",
       "      <td>13.78</td>\n",
       "    </tr>\n",
       "    <tr>\n",
       "      <th>height</th>\n",
       "      <td>164.36</td>\n",
       "      <td>165.78</td>\n",
       "    </tr>\n",
       "    <tr>\n",
       "      <th>average_height_parents</th>\n",
       "      <td>164.86</td>\n",
       "      <td>165.94</td>\n",
       "    </tr>\n",
       "    <tr>\n",
       "      <th>number</th>\n",
       "      <td>42.00</td>\n",
       "      <td>42.00</td>\n",
       "    </tr>\n",
       "    <tr>\n",
       "      <th>height_m</th>\n",
       "      <td>1.64</td>\n",
       "      <td>1.66</td>\n",
       "    </tr>\n",
       "    <tr>\n",
       "      <th>weight</th>\n",
       "      <td>75.34</td>\n",
       "      <td>72.66</td>\n",
       "    </tr>\n",
       "    <tr>\n",
       "      <th>bmi</th>\n",
       "      <td>27.90</td>\n",
       "      <td>26.45</td>\n",
       "    </tr>\n",
       "  </tbody>\n",
       "</table>\n",
       "</div>"
      ],
      "text/plain": [
       "gender                  female    male\n",
       "id                        7.82   13.78\n",
       "height                  164.36  165.78\n",
       "average_height_parents  164.86  165.94\n",
       "number                   42.00   42.00\n",
       "height_m                  1.64    1.66\n",
       "weight                   75.34   72.66\n",
       "bmi                      27.90   26.45"
      ]
     },
     "execution_count": 9,
     "metadata": {},
     "output_type": "execute_result"
    }
   ],
   "source": [
    "df.groupby(\"gender\").mean(numeric_only=True).round(2).T"
   ]
  },
  {
   "cell_type": "markdown",
   "metadata": {},
   "source": [
    "## Segment data into bins"
   ]
  },
  {
   "cell_type": "markdown",
   "metadata": {},
   "source": [
    "Use the function [cut](https://pandas.pydata.org/docs/reference/api/pandas.cut.html) when you need to segment and sort data values into bins. This function is also useful for going from a continuous variable to a categorical variable. \n",
    "\n",
    "In our example, we create a body mass index category. The standard weight status categories associated with BMI ranges for adults are shown in the following table:\n",
    "\n",
    "BMI\t| Weight Status\n",
    "---| ---\n",
    "Below 18.5 |\tUnderweight\n",
    "18.5 - 24.9 |\tNormal or Healthy Weight\n",
    "25.0 - 29.9 |\tOverweight\n",
    "30.0 and Above |\tObese\n",
    "\n",
    "Source: [U.S. Department of Health & Human Services](https://www.cdc.gov/healthyweight/assessing/bmi/adult_bmi/index.html)\n",
    "\n",
    "In our function, we discretize the variable `bmi` into four bins according to the table above:\n",
    "\n",
    "- The bins [0, 18.5, 25, 30, float('inf')] indicate (0,18.5], (18.5,25], (25,30], (30, float('inf))\n",
    "- `float('inf')` is used for setting  variable with an infinitely large value"
   ]
  },
  {
   "cell_type": "code",
   "execution_count": 10,
   "metadata": {},
   "outputs": [],
   "source": [
    "df['bmi_category'] = pd.cut(df['bmi'], \n",
    "                            bins=[0, 18.5, 25, 30, float('inf')], \n",
    "                            labels=['underweight', 'normal', 'overweight', \"obese\"])"
   ]
  },
  {
   "cell_type": "code",
   "execution_count": 11,
   "metadata": {},
   "outputs": [
    {
     "data": {
      "text/plain": [
       "0         obese\n",
       "1    overweight\n",
       "2    overweight\n",
       "3    overweight\n",
       "4         obese\n",
       "5        normal\n",
       "6    overweight\n",
       "Name: bmi_category, dtype: category\n",
       "Categories (4, object): ['underweight' < 'normal' < 'overweight' < 'obese']"
      ]
     },
     "execution_count": 11,
     "metadata": {},
     "output_type": "execute_result"
    }
   ],
   "source": [
    "df['bmi_category'].head(7)"
   ]
  },
  {
   "cell_type": "markdown",
   "metadata": {},
   "source": [
    "Example of how to discretize into four equal-sized bins:"
   ]
  },
  {
   "cell_type": "code",
   "execution_count": 13,
   "metadata": {},
   "outputs": [],
   "source": [
    "df['bmi_category_2'] = pd.cut(df['bmi'], \n",
    "                            bins=4, \n",
    "                            labels=['group1', 'group2', 'group3', \"group4\"])"
   ]
  },
  {
   "cell_type": "code",
   "execution_count": 14,
   "metadata": {},
   "outputs": [
    {
     "data": {
      "text/plain": [
       "0    group4\n",
       "1    group2\n",
       "2    group3\n",
       "3    group3\n",
       "4    group4\n",
       "5    group1\n",
       "6    group3\n",
       "Name: bmi_category_2, dtype: category\n",
       "Categories (4, object): ['group1' < 'group2' < 'group3' < 'group4']"
      ]
     },
     "execution_count": 14,
     "metadata": {},
     "output_type": "execute_result"
    }
   ],
   "source": [
    "df['bmi_category_2'].head(7)"
   ]
  },
  {
   "cell_type": "markdown",
   "metadata": {},
   "source": [
    "Example of how to discretize into four equal-sized bins if you don't need labels"
   ]
  },
  {
   "cell_type": "code",
   "execution_count": 15,
   "metadata": {},
   "outputs": [],
   "source": [
    "df['bmi_category_3'] = pd.cut(df['bmi'], \n",
    "                            bins=4, \n",
    "                            labels=False)"
   ]
  },
  {
   "cell_type": "code",
   "execution_count": 16,
   "metadata": {},
   "outputs": [
    {
     "data": {
      "text/plain": [
       "0    3\n",
       "1    1\n",
       "2    2\n",
       "3    2\n",
       "4    3\n",
       "5    0\n",
       "6    2\n",
       "Name: bmi_category_3, dtype: int64"
      ]
     },
     "execution_count": 16,
     "metadata": {},
     "output_type": "execute_result"
    }
   ],
   "source": [
    "df['bmi_category_3'].head(7)"
   ]
  },
  {
   "cell_type": "markdown",
   "metadata": {},
   "source": [
    "- Use the variable height to create a new variable called `height_category` with three bins and labels:\n",
    "\n",
    "  - 0 to 165 (label it `group1`)\n",
    "  - 166 to 167 (label it `group2`)\n",
    "  - 168 and taller (label it `group3`)"
   ]
  },
  {
   "cell_type": "code",
   "execution_count": 17,
   "metadata": {
    "nbgrader": {
     "grade": false,
     "grade_id": "cat",
     "locked": false,
     "schema_version": 3,
     "solution": true,
     "task": false
    }
   },
   "outputs": [],
   "source": [
    "### BEGIN SOLUTION\n",
    "df['height_category'] = pd.cut(df['height'], \n",
    "                            bins=[0, 165, 167, float('inf')], \n",
    "                            labels=['group1', 'group2', 'group3'])\n",
    "### END SOLUTION"
   ]
  },
  {
   "cell_type": "code",
   "execution_count": 18,
   "metadata": {
    "nbgrader": {
     "grade": true,
     "grade_id": "c_cat",
     "locked": true,
     "points": 3,
     "schema_version": 3,
     "solution": false,
     "task": false
    }
   },
   "outputs": [],
   "source": [
    "\"\"\"Check if your code returns the correct output\"\"\"\n",
    "assert df['height_category'].value_counts().group1 == 13\n",
    "assert df['height_category'].value_counts().group2 == 6\n",
    "assert df['height_category'].value_counts().group3 == 1\n"
   ]
  }
 ],
 "metadata": {
  "celltoolbar": "Create Assignment",
  "interpreter": {
   "hash": "463226f144cc21b006ce6927bfc93dd00694e52c8bc6857abb6e555b983749e9"
  },
  "kernelspec": {
   "display_name": "Python 3 (ipykernel)",
   "language": "python",
   "name": "python3"
  },
  "language_info": {
   "codemirror_mode": {
    "name": "ipython",
    "version": 3
   },
   "file_extension": ".py",
   "mimetype": "text/x-python",
   "name": "python",
   "nbconvert_exporter": "python",
   "pygments_lexer": "ipython3",
   "version": "3.9.12"
  }
 },
 "nbformat": 4,
 "nbformat_minor": 2
}
