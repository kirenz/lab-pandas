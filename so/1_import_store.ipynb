{
 "cells": [
  {
   "cell_type": "markdown",
   "metadata": {},
   "source": [
    "# Import and store data"
   ]
  },
  {
   "cell_type": "markdown",
   "metadata": {},
   "source": [
    "## Import pandas\n",
    "\n",
    "- To load the pandas package and start working with it, import the package. \n",
    "\n",
    "\n",
    "- The community agreed alias for pandas is `pd`, so loading pandas as pd is assumed standard practice for all of the pandas documentation:"
   ]
  },
  {
   "cell_type": "code",
   "execution_count": 1,
   "metadata": {},
   "outputs": [],
   "source": [
    "import pandas as pd"
   ]
  },
  {
   "cell_type": "markdown",
   "metadata": {},
   "source": [
    "## Data creation"
   ]
  },
  {
   "cell_type": "markdown",
   "metadata": {},
   "source": [
    "- To manually store data in a table, create a DataFrame:"
   ]
  },
  {
   "cell_type": "markdown",
   "metadata": {},
   "source": [
    "- create the DataFrame and name it `my_df`\n",
    "\n",
    "\n",
    "- add the variable \"gender\" with the following observations: male, female and male\n",
    "\n",
    "Hint:\n",
    "\n",
    "```python\n",
    "my_df = pd.DataFrame(\n",
    "    { \n",
    "        'name': [ \"Tom\", \"Lisa\", \"Peter\"],\n",
    "        'height': [1.68, 1.93, 1.72],\n",
    "        'weight': [48.4, 89.8, 84.2]\n",
    "         ______     ________\n",
    "        }\n",
    ")\n",
    "```"
   ]
  },
  {
   "cell_type": "code",
   "execution_count": 2,
   "metadata": {
    "nbgrader": {
     "grade": false,
     "grade_id": "my_df",
     "locked": false,
     "schema_version": 3,
     "solution": true,
     "task": false
    }
   },
   "outputs": [],
   "source": [
    "### BEGIN SOLUTION\n",
    "my_df = pd.DataFrame(\n",
    "    { \n",
    "        'name': [ \"Tom\", \"Lisa\", \"Peter\"],\n",
    "        'height': [1.68, 1.93, 1.72],\n",
    "        'weight': [48.4, 89.8, 84.2],\n",
    "        'gender': ['male', 'female', 'male'] \n",
    "        }\n",
    ")\n",
    "### END SOLUTION"
   ]
  },
  {
   "cell_type": "code",
   "execution_count": 10,
   "metadata": {
    "nbgrader": {
     "grade": true,
     "grade_id": "c_my_df",
     "locked": true,
     "points": 2,
     "schema_version": 3,
     "solution": false,
     "task": false
    }
   },
   "outputs": [],
   "source": [
    "\"\"\"Check that your code returns the correct output\"\"\"\n",
    "assert my_df.iloc[0, 0] == \"Tom\"\n",
    "assert my_df.iloc[0, 3] == \"male\"\n",
    "assert my_df.iloc[1, 3] == \"female\""
   ]
  },
  {
   "cell_type": "markdown",
   "metadata": {},
   "source": [
    "## Import data"
   ]
  },
  {
   "cell_type": "markdown",
   "metadata": {},
   "source": [
    "![](https://pandas.pydata.org/docs/_images/02_io_readwrite.svg)"
   ]
  },
  {
   "cell_type": "markdown",
   "metadata": {},
   "source": [
    "Pandas supports many different file formats or data sources out of the box (csv, excel, sql, json, parquet, …). Each of them import data with the prefix `read_*`\n",
    "\n",
    "- Next, we import data, available as a CSV file in a GitHub repo \n",
    "\n",
    "Important notes: The CSV file has a typical european format with \n",
    "\n",
    "- `;` as seperators between cells (instead of the Pandas default `,`)\n",
    "- `,` as number decimal seperator (instead of the Pandas default `.`) \n",
    "\n",
    "We need to take care of this issues."
   ]
  },
  {
   "cell_type": "markdown",
   "metadata": {},
   "source": [
    "Hint \n",
    "\n",
    "```python\n",
    "df = pd.___(sep=';', decimal=',')\n",
    "```"
   ]
  },
  {
   "cell_type": "code",
   "execution_count": 2,
   "metadata": {},
   "outputs": [],
   "source": [
    "# URL of data\n",
    "URL = \"https://raw.githubusercontent.com/kirenz/datasets/master/height_unclean.csv\""
   ]
  },
  {
   "cell_type": "code",
   "execution_count": 3,
   "metadata": {
    "nbgrader": {
     "grade": false,
     "grade_id": "read_csv",
     "locked": false,
     "schema_version": 3,
     "solution": true,
     "task": false
    }
   },
   "outputs": [],
   "source": [
    "### BEGIN SOLUTION\n",
    "df = pd.read_csv(URL, sep=\";\", decimal=',')\n",
    "### END SOLUTION"
   ]
  },
  {
   "cell_type": "code",
   "execution_count": 4,
   "metadata": {
    "nbgrader": {
     "grade": true,
     "grade_id": "c_read_csv",
     "locked": true,
     "points": 2,
     "schema_version": 3,
     "solution": false,
     "task": false
    }
   },
   "outputs": [],
   "source": [
    "\"\"\"Check that your code returns the correct output\"\"\"\n",
    "assert df.iloc[0, 0] == 'Stefanie'\n",
    "assert df.iloc[0, 3] == 161.5"
   ]
  },
  {
   "cell_type": "markdown",
   "metadata": {},
   "source": [
    "Now we do the same import with a different approach. Use the name `df2` \n",
    "\n",
    "\n",
    "Hint:\n",
    "\n",
    "```python\n",
    "ROOT = \"https://raw.githubusercontent.com/kirenz/datasets/master/\"\n",
    "DATA = \"___\"\n",
    "\n",
    "df2 = pd.read_csv(___ + ___, sep=\";\", decimal=',' )\n",
    "\n",
    "# show head of the data\n",
    "df2.head()\n",
    "```"
   ]
  },
  {
   "cell_type": "code",
   "execution_count": 9,
   "metadata": {
    "nbgrader": {
     "grade": false,
     "grade_id": "df2",
     "locked": false,
     "schema_version": 3,
     "solution": true,
     "task": false
    }
   },
   "outputs": [
    {
     "data": {
      "text/html": [
       "<div>\n",
       "<style scoped>\n",
       "    .dataframe tbody tr th:only-of-type {\n",
       "        vertical-align: middle;\n",
       "    }\n",
       "\n",
       "    .dataframe tbody tr th {\n",
       "        vertical-align: top;\n",
       "    }\n",
       "\n",
       "    .dataframe thead th {\n",
       "        text-align: right;\n",
       "    }\n",
       "</style>\n",
       "<table border=\"1\" class=\"dataframe\">\n",
       "  <thead>\n",
       "    <tr style=\"text-align: right;\">\n",
       "      <th></th>\n",
       "      <th>Name</th>\n",
       "      <th>ID%</th>\n",
       "      <th>Height</th>\n",
       "      <th>Average Height Parents</th>\n",
       "      <th>Gender</th>\n",
       "    </tr>\n",
       "  </thead>\n",
       "  <tbody>\n",
       "    <tr>\n",
       "      <th>0</th>\n",
       "      <td>Stefanie</td>\n",
       "      <td>1</td>\n",
       "      <td>162</td>\n",
       "      <td>161.5</td>\n",
       "      <td>female</td>\n",
       "    </tr>\n",
       "    <tr>\n",
       "      <th>1</th>\n",
       "      <td>Peter</td>\n",
       "      <td>2</td>\n",
       "      <td>163</td>\n",
       "      <td>163.5</td>\n",
       "      <td>male</td>\n",
       "    </tr>\n",
       "    <tr>\n",
       "      <th>2</th>\n",
       "      <td>Stefanie</td>\n",
       "      <td>3</td>\n",
       "      <td>163</td>\n",
       "      <td>163.2</td>\n",
       "      <td>female</td>\n",
       "    </tr>\n",
       "    <tr>\n",
       "      <th>3</th>\n",
       "      <td>Manuela</td>\n",
       "      <td>4</td>\n",
       "      <td>164</td>\n",
       "      <td>165.1</td>\n",
       "      <td>female</td>\n",
       "    </tr>\n",
       "    <tr>\n",
       "      <th>4</th>\n",
       "      <td>Simon</td>\n",
       "      <td>5</td>\n",
       "      <td>164</td>\n",
       "      <td>163.2</td>\n",
       "      <td>male</td>\n",
       "    </tr>\n",
       "  </tbody>\n",
       "</table>\n",
       "</div>"
      ],
      "text/plain": [
       "       Name  ID%  Height  Average Height Parents  Gender\n",
       "0  Stefanie    1     162                   161.5  female\n",
       "1     Peter    2     163                   163.5    male\n",
       "2  Stefanie    3     163                   163.2  female\n",
       "3   Manuela    4     164                   165.1  female\n",
       "4     Simon    5     164                   163.2    male"
      ]
     },
     "execution_count": 9,
     "metadata": {},
     "output_type": "execute_result"
    }
   ],
   "source": [
    "### BEGIN SOLUTION\n",
    "ROOT = \"https://raw.githubusercontent.com/kirenz/datasets/master/\"\n",
    "DATA = \"height_unclean.csv\"\n",
    "\n",
    "df2 = pd.read_csv(ROOT + DATA, sep=\";\", decimal=',' )\n",
    "\n",
    "df2.head()\n",
    "### END SOLUTION"
   ]
  },
  {
   "cell_type": "code",
   "execution_count": 10,
   "metadata": {
    "nbgrader": {
     "grade": true,
     "grade_id": "c_df2",
     "locked": true,
     "points": 2,
     "schema_version": 3,
     "solution": false,
     "task": false
    }
   },
   "outputs": [],
   "source": [
    "\"\"\"Check that your code returns the correct output\"\"\"\n",
    "assert df2.iloc[0, 0] == 'Stefanie'\n",
    "assert df2.iloc[0, 3] == 161.5"
   ]
  },
  {
   "cell_type": "markdown",
   "metadata": {},
   "source": [
    "## Store data\n",
    "\n",
    "Pandas supports many different file formats (csv, excel, sql, json, parquet, …). Each of them stores data with the prefix `to_*`\n",
    "\n",
    "\n",
    "- The following code should save the data `df` as an Excel file in your current directory.\n",
    "\n",
    "\n",
    "- In the example here, the `sheet_name` is named `people_height` instead of the default Sheet1. \n",
    "\n",
    "\n",
    "- By setting `index=False` the row index labels are not saved in the spreadsheet:"
   ]
  },
  {
   "cell_type": "code",
   "execution_count": 4,
   "metadata": {},
   "outputs": [],
   "source": [
    "df.to_excel(\"height.xlsx\", sheet_name=\"people_height\", index=False)"
   ]
  },
  {
   "cell_type": "markdown",
   "metadata": {},
   "source": [
    "- The equivalent read function `read_excel()` would reload the data to a DataFrame:"
   ]
  },
  {
   "cell_type": "code",
   "execution_count": 5,
   "metadata": {},
   "outputs": [],
   "source": [
    "# load excel file\n",
    "df_xlsx = pd.read_excel(\"height.xlsx\", sheet_name=\"people_height\")"
   ]
  },
  {
   "cell_type": "markdown",
   "metadata": {},
   "source": [
    "## Viewing data"
   ]
  },
  {
   "cell_type": "markdown",
   "metadata": {},
   "source": [
    "### Overview"
   ]
  },
  {
   "cell_type": "code",
   "execution_count": 8,
   "metadata": {},
   "outputs": [
    {
     "data": {
      "text/html": [
       "<div>\n",
       "<style scoped>\n",
       "    .dataframe tbody tr th:only-of-type {\n",
       "        vertical-align: middle;\n",
       "    }\n",
       "\n",
       "    .dataframe tbody tr th {\n",
       "        vertical-align: top;\n",
       "    }\n",
       "\n",
       "    .dataframe thead th {\n",
       "        text-align: right;\n",
       "    }\n",
       "</style>\n",
       "<table border=\"1\" class=\"dataframe\">\n",
       "  <thead>\n",
       "    <tr style=\"text-align: right;\">\n",
       "      <th></th>\n",
       "      <th>Name</th>\n",
       "      <th>ID%</th>\n",
       "      <th>Height</th>\n",
       "      <th>Average Height Parents</th>\n",
       "      <th>Gender</th>\n",
       "    </tr>\n",
       "  </thead>\n",
       "  <tbody>\n",
       "    <tr>\n",
       "      <th>0</th>\n",
       "      <td>Stefanie</td>\n",
       "      <td>1</td>\n",
       "      <td>162</td>\n",
       "      <td>161.5</td>\n",
       "      <td>female</td>\n",
       "    </tr>\n",
       "    <tr>\n",
       "      <th>1</th>\n",
       "      <td>Peter</td>\n",
       "      <td>2</td>\n",
       "      <td>163</td>\n",
       "      <td>163.5</td>\n",
       "      <td>male</td>\n",
       "    </tr>\n",
       "    <tr>\n",
       "      <th>2</th>\n",
       "      <td>Stefanie</td>\n",
       "      <td>3</td>\n",
       "      <td>163</td>\n",
       "      <td>163.2</td>\n",
       "      <td>female</td>\n",
       "    </tr>\n",
       "    <tr>\n",
       "      <th>3</th>\n",
       "      <td>Manuela</td>\n",
       "      <td>4</td>\n",
       "      <td>164</td>\n",
       "      <td>165.1</td>\n",
       "      <td>female</td>\n",
       "    </tr>\n",
       "    <tr>\n",
       "      <th>4</th>\n",
       "      <td>Simon</td>\n",
       "      <td>5</td>\n",
       "      <td>164</td>\n",
       "      <td>163.2</td>\n",
       "      <td>male</td>\n",
       "    </tr>\n",
       "    <tr>\n",
       "      <th>5</th>\n",
       "      <td>Sophia</td>\n",
       "      <td>6</td>\n",
       "      <td>164</td>\n",
       "      <td>164.4</td>\n",
       "      <td>female</td>\n",
       "    </tr>\n",
       "    <tr>\n",
       "      <th>6</th>\n",
       "      <td>Ellen</td>\n",
       "      <td>7</td>\n",
       "      <td>164</td>\n",
       "      <td>164.0</td>\n",
       "      <td>female</td>\n",
       "    </tr>\n",
       "    <tr>\n",
       "      <th>7</th>\n",
       "      <td>Emilia</td>\n",
       "      <td>8</td>\n",
       "      <td>165</td>\n",
       "      <td>165.2</td>\n",
       "      <td>female</td>\n",
       "    </tr>\n",
       "    <tr>\n",
       "      <th>8</th>\n",
       "      <td>Lina</td>\n",
       "      <td>9</td>\n",
       "      <td>165</td>\n",
       "      <td>165.2</td>\n",
       "      <td>female</td>\n",
       "    </tr>\n",
       "    <tr>\n",
       "      <th>9</th>\n",
       "      <td>Marie</td>\n",
       "      <td>10</td>\n",
       "      <td>165</td>\n",
       "      <td>165.1</td>\n",
       "      <td>female</td>\n",
       "    </tr>\n",
       "    <tr>\n",
       "      <th>10</th>\n",
       "      <td>Lena</td>\n",
       "      <td>11</td>\n",
       "      <td>165</td>\n",
       "      <td>166.3</td>\n",
       "      <td>female</td>\n",
       "    </tr>\n",
       "    <tr>\n",
       "      <th>11</th>\n",
       "      <td>Mila</td>\n",
       "      <td>12</td>\n",
       "      <td>165</td>\n",
       "      <td>167.4</td>\n",
       "      <td>female</td>\n",
       "    </tr>\n",
       "    <tr>\n",
       "      <th>12</th>\n",
       "      <td>Fin</td>\n",
       "      <td>13</td>\n",
       "      <td>165</td>\n",
       "      <td>165.5</td>\n",
       "      <td>male</td>\n",
       "    </tr>\n",
       "    <tr>\n",
       "      <th>13</th>\n",
       "      <td>Eric</td>\n",
       "      <td>14</td>\n",
       "      <td>166</td>\n",
       "      <td>166.2</td>\n",
       "      <td>male</td>\n",
       "    </tr>\n",
       "    <tr>\n",
       "      <th>14</th>\n",
       "      <td>Pia</td>\n",
       "      <td>15</td>\n",
       "      <td>166</td>\n",
       "      <td>166.1</td>\n",
       "      <td>female</td>\n",
       "    </tr>\n",
       "    <tr>\n",
       "      <th>15</th>\n",
       "      <td>Marc</td>\n",
       "      <td>16</td>\n",
       "      <td>166</td>\n",
       "      <td>166.5</td>\n",
       "      <td>male</td>\n",
       "    </tr>\n",
       "    <tr>\n",
       "      <th>16</th>\n",
       "      <td>Ralph</td>\n",
       "      <td>17</td>\n",
       "      <td>166</td>\n",
       "      <td>166.6</td>\n",
       "      <td>male</td>\n",
       "    </tr>\n",
       "    <tr>\n",
       "      <th>17</th>\n",
       "      <td>Tom</td>\n",
       "      <td>18</td>\n",
       "      <td>167</td>\n",
       "      <td>166.2</td>\n",
       "      <td>male</td>\n",
       "    </tr>\n",
       "    <tr>\n",
       "      <th>18</th>\n",
       "      <td>Steven</td>\n",
       "      <td>19</td>\n",
       "      <td>167</td>\n",
       "      <td>167.3</td>\n",
       "      <td>male</td>\n",
       "    </tr>\n",
       "    <tr>\n",
       "      <th>19</th>\n",
       "      <td>Emanuel</td>\n",
       "      <td>20</td>\n",
       "      <td>168</td>\n",
       "      <td>168.5</td>\n",
       "      <td>male</td>\n",
       "    </tr>\n",
       "  </tbody>\n",
       "</table>\n",
       "</div>"
      ],
      "text/plain": [
       "        Name  ID%  Height  Average Height Parents  Gender\n",
       "0   Stefanie    1     162                   161.5  female\n",
       "1      Peter    2     163                   163.5    male\n",
       "2   Stefanie    3     163                   163.2  female\n",
       "3    Manuela    4     164                   165.1  female\n",
       "4      Simon    5     164                   163.2    male\n",
       "5     Sophia    6     164                   164.4  female\n",
       "6      Ellen    7     164                   164.0  female\n",
       "7     Emilia    8     165                   165.2  female\n",
       "8       Lina    9     165                   165.2  female\n",
       "9      Marie   10     165                   165.1  female\n",
       "10      Lena   11     165                   166.3  female\n",
       "11      Mila   12     165                   167.4  female\n",
       "12       Fin   13     165                   165.5    male\n",
       "13      Eric   14     166                   166.2    male\n",
       "14       Pia   15     166                   166.1  female\n",
       "15      Marc   16     166                   166.5    male\n",
       "16     Ralph   17     166                   166.6    male\n",
       "17       Tom   18     167                   166.2    male\n",
       "18    Steven   19     167                   167.3    male\n",
       "19   Emanuel   20     168                   168.5    male"
      ]
     },
     "execution_count": 8,
     "metadata": {},
     "output_type": "execute_result"
    }
   ],
   "source": [
    "# show df\n",
    "df"
   ]
  },
  {
   "cell_type": "code",
   "execution_count": 9,
   "metadata": {},
   "outputs": [
    {
     "data": {
      "text/html": [
       "<div>\n",
       "<style scoped>\n",
       "    .dataframe tbody tr th:only-of-type {\n",
       "        vertical-align: middle;\n",
       "    }\n",
       "\n",
       "    .dataframe tbody tr th {\n",
       "        vertical-align: top;\n",
       "    }\n",
       "\n",
       "    .dataframe thead th {\n",
       "        text-align: right;\n",
       "    }\n",
       "</style>\n",
       "<table border=\"1\" class=\"dataframe\">\n",
       "  <thead>\n",
       "    <tr style=\"text-align: right;\">\n",
       "      <th></th>\n",
       "      <th>Name</th>\n",
       "      <th>ID%</th>\n",
       "      <th>Height</th>\n",
       "      <th>Average Height Parents</th>\n",
       "      <th>Gender</th>\n",
       "    </tr>\n",
       "  </thead>\n",
       "  <tbody>\n",
       "    <tr>\n",
       "      <th>0</th>\n",
       "      <td>Stefanie</td>\n",
       "      <td>1</td>\n",
       "      <td>162</td>\n",
       "      <td>161.5</td>\n",
       "      <td>female</td>\n",
       "    </tr>\n",
       "    <tr>\n",
       "      <th>1</th>\n",
       "      <td>Peter</td>\n",
       "      <td>2</td>\n",
       "      <td>163</td>\n",
       "      <td>163.5</td>\n",
       "      <td>male</td>\n",
       "    </tr>\n",
       "  </tbody>\n",
       "</table>\n",
       "</div>"
      ],
      "text/plain": [
       "       Name  ID%  Height  Average Height Parents  Gender\n",
       "0  Stefanie    1     162                   161.5  female\n",
       "1     Peter    2     163                   163.5    male"
      ]
     },
     "execution_count": 9,
     "metadata": {},
     "output_type": "execute_result"
    }
   ],
   "source": [
    "# show first 2 rows\n",
    "df.head(2)"
   ]
  },
  {
   "cell_type": "code",
   "execution_count": 10,
   "metadata": {},
   "outputs": [
    {
     "data": {
      "text/html": [
       "<div>\n",
       "<style scoped>\n",
       "    .dataframe tbody tr th:only-of-type {\n",
       "        vertical-align: middle;\n",
       "    }\n",
       "\n",
       "    .dataframe tbody tr th {\n",
       "        vertical-align: top;\n",
       "    }\n",
       "\n",
       "    .dataframe thead th {\n",
       "        text-align: right;\n",
       "    }\n",
       "</style>\n",
       "<table border=\"1\" class=\"dataframe\">\n",
       "  <thead>\n",
       "    <tr style=\"text-align: right;\">\n",
       "      <th></th>\n",
       "      <th>Name</th>\n",
       "      <th>ID%</th>\n",
       "      <th>Height</th>\n",
       "      <th>Average Height Parents</th>\n",
       "      <th>Gender</th>\n",
       "    </tr>\n",
       "  </thead>\n",
       "  <tbody>\n",
       "    <tr>\n",
       "      <th>18</th>\n",
       "      <td>Steven</td>\n",
       "      <td>19</td>\n",
       "      <td>167</td>\n",
       "      <td>167.3</td>\n",
       "      <td>male</td>\n",
       "    </tr>\n",
       "    <tr>\n",
       "      <th>19</th>\n",
       "      <td>Emanuel</td>\n",
       "      <td>20</td>\n",
       "      <td>168</td>\n",
       "      <td>168.5</td>\n",
       "      <td>male</td>\n",
       "    </tr>\n",
       "  </tbody>\n",
       "</table>\n",
       "</div>"
      ],
      "text/plain": [
       "       Name  ID%  Height  Average Height Parents  Gender\n",
       "18   Steven   19     167                   167.3    male\n",
       "19  Emanuel   20     168                   168.5    male"
      ]
     },
     "execution_count": 10,
     "metadata": {},
     "output_type": "execute_result"
    }
   ],
   "source": [
    "# show last 2 rows\n",
    "df.tail(2)"
   ]
  },
  {
   "cell_type": "markdown",
   "metadata": {},
   "source": [
    "- The `info()` method prints information about a DataFrame including the index dtype and columns, non-null values and memory usage:"
   ]
  },
  {
   "cell_type": "code",
   "execution_count": 11,
   "metadata": {},
   "outputs": [
    {
     "name": "stdout",
     "output_type": "stream",
     "text": [
      "<class 'pandas.core.frame.DataFrame'>\n",
      "RangeIndex: 20 entries, 0 to 19\n",
      "Data columns (total 5 columns):\n",
      " #   Column                  Non-Null Count  Dtype  \n",
      "---  ------                  --------------  -----  \n",
      " 0   Name                    20 non-null     object \n",
      " 1   ID%                     20 non-null     int64  \n",
      " 2   Height                  20 non-null     int64  \n",
      " 3   Average Height Parents  20 non-null     float64\n",
      " 4    Gender                 20 non-null     object \n",
      "dtypes: float64(1), int64(2), object(2)\n",
      "memory usage: 928.0+ bytes\n"
     ]
    }
   ],
   "source": [
    "df.info()"
   ]
  },
  {
   "cell_type": "markdown",
   "metadata": {},
   "source": [
    "### Column names"
   ]
  },
  {
   "cell_type": "code",
   "execution_count": 12,
   "metadata": {},
   "outputs": [
    {
     "data": {
      "text/plain": [
       "Index(['Name', 'ID%', 'Height', 'Average Height Parents', ' Gender'], dtype='object')"
      ]
     },
     "execution_count": 12,
     "metadata": {},
     "output_type": "execute_result"
    }
   ],
   "source": [
    "# Show columns\n",
    "df.columns"
   ]
  },
  {
   "cell_type": "markdown",
   "metadata": {},
   "source": [
    "### Data type"
   ]
  },
  {
   "cell_type": "markdown",
   "metadata": {},
   "source": [
    "- Show data types ([dtypes](https://pandas.pydata.org/docs/user_guide/basics.html#basics-dtypes))."
   ]
  },
  {
   "cell_type": "code",
   "execution_count": 13,
   "metadata": {},
   "outputs": [
    {
     "data": {
      "text/plain": [
       "Name                       object\n",
       "ID%                         int64\n",
       "Height                      int64\n",
       "Average Height Parents    float64\n",
       " Gender                    object\n",
       "dtype: object"
      ]
     },
     "execution_count": 13,
     "metadata": {},
     "output_type": "execute_result"
    }
   ],
   "source": [
    "df.dtypes"
   ]
  },
  {
   "cell_type": "markdown",
   "metadata": {},
   "source": [
    "- The data types in this DataFrame are integers (int64), floats (float64) and strings (object)."
   ]
  },
  {
   "cell_type": "markdown",
   "metadata": {},
   "source": [
    "### Index"
   ]
  },
  {
   "cell_type": "code",
   "execution_count": 14,
   "metadata": {},
   "outputs": [
    {
     "data": {
      "text/plain": [
       "RangeIndex(start=0, stop=20, step=1)"
      ]
     },
     "execution_count": 14,
     "metadata": {},
     "output_type": "execute_result"
    }
   ],
   "source": [
    "# Only show index\n",
    "df.index"
   ]
  }
 ],
 "metadata": {
  "celltoolbar": "Create Assignment",
  "interpreter": {
   "hash": "463226f144cc21b006ce6927bfc93dd00694e52c8bc6857abb6e555b983749e9"
  },
  "kernelspec": {
   "display_name": "Python 3 (ipykernel)",
   "language": "python",
   "name": "python3"
  },
  "language_info": {
   "codemirror_mode": {
    "name": "ipython",
    "version": 3
   },
   "file_extension": ".py",
   "mimetype": "text/x-python",
   "name": "python",
   "nbconvert_exporter": "python",
   "pygments_lexer": "ipython3",
   "version": "3.9.13"
  }
 },
 "nbformat": 4,
 "nbformat_minor": 2
}
